{
 "cells": [
  {
   "cell_type": "code",
   "execution_count": 49,
   "id": "2c6f62ca-a6c6-4498-893c-059a2d945890",
   "metadata": {},
   "outputs": [
    {
     "name": "stdout",
     "output_type": "stream",
     "text": [
      "Requirement already satisfied: nest_asyncio in /opt/anaconda3/lib/python3.12/site-packages (1.6.0)\n"
     ]
    }
   ],
   "source": [
    "! pip install nest_asyncio"
   ]
  },
  {
   "cell_type": "code",
   "execution_count": 51,
   "id": "624fadbd-136e-4f4d-9b49-ad68d56faaa7",
   "metadata": {},
   "outputs": [
    {
     "name": "stdout",
     "output_type": "stream",
     "text": [
      "Requirement already satisfied: ib_async in /opt/anaconda3/lib/python3.12/site-packages (1.0.3)\n",
      "Requirement already satisfied: eventkit in /opt/anaconda3/lib/python3.12/site-packages (from ib_async) (1.0.3)\n",
      "Requirement already satisfied: nest_asyncio in /opt/anaconda3/lib/python3.12/site-packages (from ib_async) (1.6.0)\n",
      "Requirement already satisfied: numpy in /opt/anaconda3/lib/python3.12/site-packages (from eventkit->ib_async) (1.26.4)\n"
     ]
    }
   ],
   "source": [
    "! pip install ib_async"
   ]
  },
  {
   "cell_type": "code",
   "execution_count": 91,
   "id": "bb2bb5ac-c9f3-4489-8824-a52bee1a3dbc",
   "metadata": {},
   "outputs": [
    {
     "name": "stdout",
     "output_type": "stream",
     "text": [
      "Connecting to IBKR...\n",
      "Successfully connected to IBKR.\n",
      "Setting market data type to delayed...\n",
      "Market data type set to delayed.\n",
      "Requesting market data for AAPL...\n",
      "Market data requested for AAPL.\n",
      "Delayed Last Price for AAPL: 234.17\n",
      "Requesting market data for MSFT...\n",
      "Delayed Last Price for MSFT: 426.2\n",
      "Disconnected from IBKR.\n"
     ]
    }
   ],
   "source": [
    "import asyncio\n",
    "from ib_async import IB, Stock\n",
    "\n",
    "async def fetch_market_data():\n",
    "    # Initialize IB client\n",
    "    ib = IB()\n",
    "\n",
    "    try:\n",
    "        # Connect to TWS or IB Gateway\n",
    "        print(\"Connecting to IBKR...\")\n",
    "        ib.connect(host=\"127.0.0.1\", port=7497, clientId=2)  # Synchronous method\n",
    "        print(\"Successfully connected to IBKR.\")\n",
    "\n",
    "        # Define the AAPL stock contract\n",
    "        aapl_contract = Stock(\n",
    "            symbol=\"AAPL\",\n",
    "            exchange=\"SMART\",  # Use primary exchange NASDAQ\n",
    "            currency=\"USD\"\n",
    "        )\n",
    "\n",
    "        # Set market data type to delayed\n",
    "        print(\"Setting market data type to delayed...\")\n",
    "        ib.reqMarketDataType(3)  # Synchronous call to set delayed data type\n",
    "        print(\"Market data type set to delayed.\")\n",
    "\n",
    "        # Request delayed market data for AAPL\n",
    "        print(\"Requesting market data for AAPL...\")\n",
    "        ticker = ib.reqMktData(aapl_contract)  # Request market data (synchronous)\n",
    "        print(f\"Market data requested for AAPL.\")\n",
    "\n",
    "        # Wait for market data updates\n",
    "        await asyncio.sleep(5)  # Extended wait time\n",
    "\n",
    "        # Retrieve and process market data\n",
    "        if ticker.last:\n",
    "            print(f\"Delayed Last Price for AAPL: {ticker.last}\")\n",
    "        elif ticker.close:\n",
    "            print(f\"Closing Price for AAPL: {ticker.close}\")\n",
    "        else:\n",
    "            print(\"Market data for AAPL is not available.\")\n",
    "\n",
    "        # Test with MSFT as an alternative\n",
    "        print(\"Requesting market data for MSFT...\")\n",
    "        msft_contract = Stock(symbol=\"MSFT\", exchange=\"NASDAQ\", currency=\"USD\")\n",
    "        msft_ticker = ib.reqMktData(msft_contract)\n",
    "\n",
    "        # Wait for MSFT data\n",
    "        await asyncio.sleep(5)  # Extended wait time for MSFT\n",
    "        if msft_ticker.last:\n",
    "            print(f\"Delayed Last Price for MSFT: {msft_ticker.last}\")\n",
    "        elif msft_ticker.close:\n",
    "            print(f\"Closing Price for MSFT: {msft_ticker.close}\")\n",
    "        else:\n",
    "            print(\"Market data for MSFT is not available.\")\n",
    "\n",
    "    except Exception as e:\n",
    "        print(f\"An error occurred: {e}\")\n",
    "\n",
    "    finally:\n",
    "        # Disconnect\n",
    "        ib.disconnect()  # Synchronous method\n",
    "        print(\"Disconnected from IBKR.\")\n",
    "\n",
    "# Run the async function\n",
    "await fetch_market_data()\n"
   ]
  },
  {
   "cell_type": "code",
   "execution_count": 93,
   "id": "cfa35616-ce3d-414b-864e-6827e39ec7b6",
   "metadata": {},
   "outputs": [
    {
     "name": "stdout",
     "output_type": "stream",
     "text": [
      "Connecting to IBKR...\n",
      "Successfully connected to IBKR.\n",
      "Requesting fundamental data for AAPL...\n"
     ]
    },
    {
     "name": "stderr",
     "output_type": "stream",
     "text": [
      "Error 430, reqId 1100: The fundamentals data for the security specified is not available.Not allowed\n"
     ]
    },
    {
     "name": "stdout",
     "output_type": "stream",
     "text": [
      "Fundamental data for AAPL is not available.\n",
      "Disconnected from IBKR.\n"
     ]
    }
   ],
   "source": [
    "import asyncio\n",
    "from ib_async import IB, Stock\n",
    "\n",
    "\n",
    "class FundamentalDataHandler:\n",
    "    def __init__(self):\n",
    "        self.data = None\n",
    "\n",
    "    def on_fundamental_data(self, reqId, data):\n",
    "        print(f\"Fundamental Data received. ReqId: {reqId}\")\n",
    "        self.data = data  # Store the received data\n",
    "\n",
    "\n",
    "async def fetch_fundamental_data():\n",
    "    ib = IB()\n",
    "    handler = FundamentalDataHandler()\n",
    "\n",
    "    try:\n",
    "        # Connect to TWS or IB Gateway\n",
    "        print(\"Connecting to IBKR...\")\n",
    "        ib.connect(host=\"127.0.0.1\", port=7497, clientId=2)\n",
    "        print(\"Successfully connected to IBKR.\")\n",
    "\n",
    "        # Define the AAPL stock contract\n",
    "        aapl_contract = Stock(\n",
    "            symbol=\"AAPL\",\n",
    "            exchange=\"SMART\",  # Use SMART routing\n",
    "            currency=\"USD\"\n",
    "        )\n",
    "\n",
    "        # Set up the fundamental data callback\n",
    "        ib.wrapper.fundamentalData = handler.on_fundamental_data\n",
    "\n",
    "        # Request fundamental data\n",
    "        print(\"Requesting fundamental data for AAPL...\")\n",
    "        report_type = \"ReportsFinSummary\"  # Financial summary report type\n",
    "        ib.client.reqFundamentalData(\n",
    "            reqId=1100,\n",
    "            contract=aapl_contract,\n",
    "            reportType=report_type,\n",
    "            fundamentalDataOptions=None  # No additional options\n",
    "        )\n",
    "\n",
    "        # Wait for the data to be received\n",
    "        await asyncio.sleep(5)  # Allow time for response\n",
    "\n",
    "        if handler.data:\n",
    "            print(\"Fundamental Data for AAPL:\")\n",
    "            print(handler.data)\n",
    "        else:\n",
    "            print(\"Fundamental data for AAPL is not available.\")\n",
    "    except Exception as e:\n",
    "        print(f\"An error occurred: {e}\")\n",
    "    finally:\n",
    "        # Disconnect\n",
    "        ib.disconnect()\n",
    "        print(\"Disconnected from IBKR.\")\n",
    "\n",
    "\n",
    "# Run the async function\n",
    "await fetch_fundamental_data()\n"
   ]
  },
  {
   "cell_type": "code",
   "execution_count": 96,
   "id": "1d300d91-af50-4f79-8ab4-93534e386cff",
   "metadata": {},
   "outputs": [
    {
     "name": "stdout",
     "output_type": "stream",
     "text": [
      "Connecting to IBKR...\n",
      "Successfully connected to IBKR.\n",
      "Requesting historical data for AAPL...\n",
      "Historical data request submitted for AAPL.\n",
      "Historical Data for AAPL (22 bars):\n",
      "Date: 2024-10-29, Open: 233.26, High: 234.33, Low: 232.32, Close: 233.67\n",
      "Date: 2024-10-30, Open: 232.63, High: 233.23, Low: 229.55, Close: 230.1\n",
      "Date: 2024-10-31, Open: 229.51, High: 229.83, Low: 225.37, Close: 225.91\n",
      "Date: 2024-11-01, Open: 221.0, High: 225.35, Low: 220.27, Close: 222.91\n",
      "Date: 2024-11-04, Open: 220.93, High: 222.79, Low: 219.72, Close: 222.01\n",
      "Date: 2024-11-05, Open: 221.8, High: 223.95, Low: 221.14, Close: 223.45\n",
      "Date: 2024-11-06, Open: 222.58, High: 226.07, Low: 221.19, Close: 222.72\n",
      "Date: 2024-11-07, Open: 224.63, High: 227.88, Low: 224.57, Close: 227.48\n",
      "Date: 2024-11-08, Open: 227.17, High: 228.66, Low: 226.4, Close: 226.96\n",
      "Date: 2024-11-11, Open: 224.99, High: 225.7, Low: 221.5, Close: 224.23\n",
      "Date: 2024-11-12, Open: 224.43, High: 225.59, Low: 223.35, Close: 224.23\n",
      "Date: 2024-11-13, Open: 224.01, High: 226.65, Low: 222.76, Close: 225.12\n",
      "Date: 2024-11-14, Open: 225.11, High: 228.87, Low: 225.0, Close: 228.22\n",
      "Date: 2024-11-15, Open: 225.7, High: 226.92, Low: 224.27, Close: 225.0\n",
      "Date: 2024-11-18, Open: 225.22, High: 229.74, Low: 225.17, Close: 228.02\n",
      "Date: 2024-11-19, Open: 226.65, High: 230.16, Low: 226.65, Close: 228.28\n",
      "Date: 2024-11-20, Open: 228.06, High: 229.93, Low: 225.89, Close: 229.0\n",
      "Date: 2024-11-21, Open: 228.85, High: 230.16, Low: 225.71, Close: 228.52\n",
      "Date: 2024-11-22, Open: 228.29, High: 230.72, Low: 228.06, Close: 229.87\n",
      "Date: 2024-11-25, Open: 231.45, High: 233.25, Low: 229.74, Close: 232.87\n",
      "Date: 2024-11-26, Open: 233.35, High: 235.57, Low: 233.33, Close: 235.06\n",
      "Date: 2024-11-27, Open: 234.44, High: 235.69, Low: 233.81, Close: 234.36\n",
      "Disconnected from IBKR.\n"
     ]
    }
   ],
   "source": [
    "import asyncio\n",
    "from ib_async import IB, Stock\n",
    "\n",
    "\n",
    "async def fetch_historical_data():\n",
    "    # Initialize IB client\n",
    "    ib = IB()\n",
    "\n",
    "    try:\n",
    "        # Connect to TWS or IB Gateway\n",
    "        print(\"Connecting to IBKR...\")\n",
    "        ib.connect(host=\"127.0.0.1\", port=7497, clientId=2)  # Synchronous method\n",
    "        print(\"Successfully connected to IBKR.\")\n",
    "\n",
    "        # Define the AAPL stock contract\n",
    "        aapl_contract = Stock(\n",
    "            symbol=\"AAPL\",\n",
    "            exchange=\"SMART\",  # Use SMART exchange for compatibility\n",
    "            currency=\"USD\"\n",
    "        )\n",
    "\n",
    "        # Request historical data for AAPL\n",
    "        print(\"Requesting historical data for AAPL...\")\n",
    "        end_date_time = \"\"  # Blank means 'now'\n",
    "        duration = \"1 M\"  # Duration: 1 month\n",
    "        bar_size = \"1 day\"  # Granularity: 1-day bars\n",
    "        what_to_show = \"TRADES\"  # Show trade data\n",
    "        use_rth = True  # Use Regular Trading Hours only\n",
    "\n",
    "        # Fetch historical data (synchronous call to `reqHistoricalData`)\n",
    "        historical_data = ib.reqHistoricalData(\n",
    "            contract=aapl_contract,\n",
    "            endDateTime=end_date_time,\n",
    "            durationStr=duration,\n",
    "            barSizeSetting=bar_size,\n",
    "            whatToShow=what_to_show,\n",
    "            useRTH=use_rth\n",
    "        )\n",
    "        print(\"Historical data request submitted for AAPL.\")\n",
    "\n",
    "        # Wait to process historical data\n",
    "        await asyncio.sleep(5)\n",
    "\n",
    "        # Print the historical data\n",
    "        if historical_data:\n",
    "            print(f\"Historical Data for AAPL ({len(historical_data)} bars):\")\n",
    "            for bar in historical_data:\n",
    "                print(f\"Date: {bar.date}, Open: {bar.open}, High: {bar.high}, Low: {bar.low}, Close: {bar.close}\")\n",
    "        else:\n",
    "            print(\"No historical data available for AAPL.\")\n",
    "\n",
    "    except Exception as e:\n",
    "        print(f\"An error occurred: {e}\")\n",
    "\n",
    "    finally:\n",
    "        # Disconnect\n",
    "        ib.disconnect()  # Synchronous method\n",
    "        print(\"Disconnected from IBKR.\")\n",
    "\n",
    "\n",
    "# Run the async function\n",
    "await fetch_historical_data()\n"
   ]
  },
  {
   "cell_type": "code",
   "execution_count": null,
   "id": "d06b5542-0f77-4893-b607-850658aa925d",
   "metadata": {},
   "outputs": [],
   "source": []
  }
 ],
 "metadata": {
  "kernelspec": {
   "display_name": "Python 3 (ipykernel)",
   "language": "python",
   "name": "python3"
  },
  "language_info": {
   "codemirror_mode": {
    "name": "ipython",
    "version": 3
   },
   "file_extension": ".py",
   "mimetype": "text/x-python",
   "name": "python",
   "nbconvert_exporter": "python",
   "pygments_lexer": "ipython3",
   "version": "3.12.7"
  }
 },
 "nbformat": 4,
 "nbformat_minor": 5
}
